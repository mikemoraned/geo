{
 "cells": [
  {
   "cell_type": "code",
   "execution_count": 1,
   "id": "7cf17a85-bb76-457e-8c6c-e9faaf02a4f9",
   "metadata": {},
   "outputs": [],
   "source": [
    "import s3fs"
   ]
  },
  {
   "cell_type": "code",
   "execution_count": 4,
   "id": "cbcc7fd5-b4fd-4aa0-a2e1-674d3369ef43",
   "metadata": {},
   "outputs": [],
   "source": [
    "endpoint_url = \"https://cci-ke-o.s3-ext.jc.rl.ac.uk/\"\n",
    "bucket = \"esacci\""
   ]
  },
  {
   "cell_type": "code",
   "execution_count": 10,
   "id": "20092cde-89a3-4ca7-970a-e90ceeb88416",
   "metadata": {},
   "outputs": [],
   "source": [
    "import os, logging\n",
    "\n",
    "os.environ[\"S3FS_LOGGING_LEVEL\"] = \"DEBUG\"\n",
    "\n",
    "logging.basicConfig(level=logging.DEBUG,\n",
    "                    format='%(asctime)s %(levelname)s %(name)s %(message)s')\n",
    "logger = logging.getLogger('s3fs')\n",
    "logger.setLevel(logging.DEBUG)"
   ]
  },
  {
   "cell_type": "code",
   "execution_count": 20,
   "id": "5df1d905-f424-4cc8-a0a3-512274d2e079",
   "metadata": {},
   "outputs": [],
   "source": [
    "s3 = s3fs.S3FileSystem(\n",
    "    anon=True,\n",
    "    endpoint_url=endpoint_url,\n",
    "    config_kwargs={\n",
    "        \"read_timeout\": 600, \n",
    "        \"connect_timeout\": 120\n",
    "    }\n",
    ")"
   ]
  },
  {
   "cell_type": "code",
   "execution_count": 24,
   "id": "d733ca47-50db-4a54-bd47-f34034e5229b",
   "metadata": {},
   "outputs": [
    {
     "name": "stderr",
     "output_type": "stream",
     "text": [
      "2025-07-29 12:29:58,938 DEBUG s3fs CALL: get_object - () - {'Bucket': 'esacci', 'Key': 'data_ids.json'}\n",
      "2025-07-29 12:29:58,940 DEBUG botocore.hooks Event before-parameter-build.s3.GetObject: calling handler <function sse_md5 at 0x104f3ede0>\n",
      "2025-07-29 12:29:58,940 DEBUG botocore.hooks Event before-parameter-build.s3.GetObject: calling handler <function validate_bucket_name at 0x104f3ed40>\n",
      "2025-07-29 12:29:58,941 DEBUG botocore.hooks Event before-parameter-build.s3.GetObject: calling handler <function remove_bucket_from_url_paths_from_model at 0x104f60fe0>\n",
      "2025-07-29 12:29:58,941 DEBUG botocore.hooks Event before-parameter-build.s3.GetObject: calling handler <bound method S3RegionRedirectorv2.annotate_request_context of <aiobotocore.utils.AioS3RegionRedirectorv2 object at 0x10e6b6210>>\n",
      "2025-07-29 12:29:58,941 DEBUG botocore.hooks Event before-parameter-build.s3.GetObject: calling handler <bound method ClientCreator._inject_s3_input_parameters of <aiobotocore.client.AioClientCreator object at 0x10dd46ad0>>\n",
      "2025-07-29 12:29:58,942 DEBUG botocore.hooks Event before-parameter-build.s3.GetObject: calling handler <function generate_idempotent_uuid at 0x104f3eb60>\n",
      "2025-07-29 12:29:58,942 DEBUG botocore.hooks Event before-parameter-build.s3.GetObject: calling handler <function _handle_request_validation_mode_member at 0x104f616c0>\n",
      "2025-07-29 12:29:58,943 DEBUG botocore.hooks Event before-endpoint-resolution.s3: calling handler <function customize_endpoint_resolver_builtins at 0x104f611c0>\n",
      "2025-07-29 12:29:58,943 DEBUG botocore.hooks Event before-endpoint-resolution.s3: calling handler <bound method S3RegionRedirectorv2.redirect_from_cache of <aiobotocore.utils.AioS3RegionRedirectorv2 object at 0x10e6b6210>>\n",
      "2025-07-29 12:29:58,943 DEBUG aiobotocore.regions Calling endpoint provider with parameters: {'Bucket': 'esacci', 'Region': 'us-east-1', 'UseFIPS': False, 'UseDualStack': False, 'Endpoint': 'https://cci-ke-o.s3-ext.jc.rl.ac.uk/', 'ForcePathStyle': True, 'Accelerate': False, 'UseGlobalEndpoint': True, 'Key': 'data_ids.json', 'DisableMultiRegionAccessPoints': False, 'UseArnRegion': True}\n",
      "2025-07-29 12:29:58,944 DEBUG aiobotocore.regions Endpoint provider result: https://cci-ke-o.s3-ext.jc.rl.ac.uk/esacci\n",
      "2025-07-29 12:29:58,944 DEBUG botocore.regions Selecting from endpoint provider's list of auth schemes: \"sigv4\". User selected auth scheme is: \"<botocore.UNSIGNED object at 0x1049c5fd0>\"\n",
      "2025-07-29 12:29:58,945 DEBUG botocore.hooks Event before-call.s3.GetObject: calling handler <function add_expect_header at 0x104f3f100>\n",
      "2025-07-29 12:29:58,946 DEBUG botocore.hooks Event before-call.s3.GetObject: calling handler <bound method S3ExpressIdentityResolver.apply_signing_cache_key of <aiobotocore.utils.AioS3ExpressIdentityResolver object at 0x10e6b6350>>\n",
      "2025-07-29 12:29:58,946 DEBUG botocore.hooks Event before-call.s3.GetObject: calling handler <function add_recursion_detection_header at 0x104f3db20>\n",
      "2025-07-29 12:29:58,946 DEBUG botocore.hooks Event before-call.s3.GetObject: calling handler <function inject_api_version_header_if_needed at 0x104f60680>\n",
      "2025-07-29 12:29:58,947 DEBUG botocore.endpoint Making request for OperationModel(name=GetObject) with params: {'url_path': '/data_ids.json', 'query_string': {}, 'method': 'GET', 'headers': {'x-amz-checksum-mode': 'ENABLED', 'User-Agent': 'aiobotocore/2.23.2 md/Botocore#1.39.8 ua/2.1 os/macos#24.5.0 md/arch#arm64 lang/python#3.13.5 md/pyimpl#CPython m/b,D,Z,N cfg/retry-mode#legacy botocore/1.39.8'}, 'body': b'', 'auth_path': '/esacci/data_ids.json', 'url': 'https://cci-ke-o.s3-ext.jc.rl.ac.uk/esacci/data_ids.json', 'context': {'client_region': 'us-east-1', 'client_config': <aiobotocore.config.AioConfig object at 0x10e6b4b90>, 'has_streaming_input': False, 'auth_type': 'none', 'unsigned_payload': None, 'auth_options': ['aws.auth#sigv4'], 's3_redirect': {'redirected': False, 'bucket': 'esacci', 'params': {'Bucket': 'esacci', 'Key': 'data_ids.json', 'ChecksumMode': 'ENABLED'}}, 'input_params': {'Bucket': 'esacci', 'Key': 'data_ids.json'}, 'signing': {}, 'endpoint_properties': {'authSchemes': [{'disableDoubleEncoding': True, 'name': 'sigv4', 'signingName': 's3', 'signingRegion': 'us-east-1'}]}, 'checksum': {'response_algorithms': ['crc32', 'sha1', 'sha256']}}}\n",
      "2025-07-29 12:29:58,948 DEBUG botocore.hooks Event request-created.s3.GetObject: calling handler <bound method AioRequestSigner.handler of <aiobotocore.signers.AioRequestSigner object at 0x10e6b4a50>>\n",
      "2025-07-29 12:29:58,948 DEBUG botocore.hooks Event choose-signer.s3.GetObject: calling handler <function set_operation_specific_signer at 0x104f3e8e0>\n",
      "2025-07-29 12:29:58,949 DEBUG botocore.hooks Event before-sign.s3.GetObject: calling handler <function remove_arn_from_signing_path at 0x104f61120>\n",
      "2025-07-29 12:29:58,950 DEBUG botocore.hooks Event before-sign.s3.GetObject: calling handler <function _set_extra_headers_for_unsigned_request at 0x104f61760>\n",
      "2025-07-29 12:29:58,950 DEBUG botocore.hooks Event before-sign.s3.GetObject: calling handler <bound method S3ExpressIdentityResolver.resolve_s3express_identity of <aiobotocore.utils.AioS3ExpressIdentityResolver object at 0x10e6b6350>>\n",
      "2025-07-29 12:29:58,950 DEBUG botocore.hooks Event request-created.s3.GetObject: calling handler <bound method UserAgentString.rebuild_and_replace_user_agent_handler of <botocore.useragent.UserAgentString object at 0x10e865b50>>\n",
      "2025-07-29 12:29:58,950 DEBUG botocore.hooks Event request-created.s3.GetObject: calling handler <function add_retry_headers at 0x104f60f40>\n",
      "2025-07-29 12:29:58,951 DEBUG botocore.endpoint Sending http request: <AWSPreparedRequest stream_output=True, method=GET, url=https://cci-ke-o.s3-ext.jc.rl.ac.uk/esacci/data_ids.json, headers={'x-amz-checksum-mode': b'ENABLED', 'User-Agent': b'aiobotocore/2.23.2 md/Botocore#1.39.8 ua/2.1 os/macos#24.5.0 md/arch#arm64 lang/python#3.13.5 md/pyimpl#CPython m/b,D,Z,N cfg/retry-mode#legacy botocore/1.39.8', 'amz-sdk-invocation-id': b'4c9acdf3-c442-4540-b591-75cc2b948203', 'amz-sdk-request': b'attempt=1'}>\n",
      "2025-07-29 12:29:59,093 DEBUG botocore.httpchecksum Skipping checksum validation. Response did not contain one of the following algorithms: ['crc32', 'sha1', 'sha256'].\n",
      "2025-07-29 12:29:59,094 DEBUG botocore.hooks Event before-parse.s3.GetObject: calling handler <function _handle_200_error at 0x104f614e0>\n",
      "2025-07-29 12:29:59,095 DEBUG botocore.hooks Event before-parse.s3.GetObject: calling handler <function handle_expires_header at 0x104f61300>\n",
      "2025-07-29 12:29:59,095 DEBUG botocore.parsers Response headers: {'date': 'Tue, 29 Jul 2025 10:29:59 GMT', 'x-amz-request-id': '8385734555958513', 'server': 'CAStor Cluster/14.1.2', 'via': '1.1 cci-ke-o.s3-ext.jc.rl.ac.uk (Cloud Gateway S3/7.8.0)', 'gateway-protocol': 's3', 'last-modified': 'Sun, 05 May 2024 16:58:01 GMT', 'content-type': 'text/plain', 'x-amz-meta-s3cmd-attrs': 'atime:1712929207/ctime:1714928264/gid:26030/gname:users/md5:8080fe2506eaca105b725ca2fdba2c1f/mode:33188/mtime:1714928264/uid:7052994/uname:tfincke', 'age': '1', 'etag': '\"8080fe2506eaca105b725ca2fdba2c1f\"', 'content-length': '3059'}\n",
      "2025-07-29 12:29:59,096 DEBUG botocore.parsers Response body:\n",
      "<ClientResponse(https://cci-ke-o.s3-ext.jc.rl.ac.uk/esacci/data_ids.json) [200 OK]>\n",
      "<CIMultiDictProxy('Date': 'Tue, 29 Jul 2025 10:29:59 GMT', 'x-amz-request-id': '8385734555958513', 'Server': 'CAStor Cluster/14.1.2', 'Via': '1.1 cci-ke-o.s3-ext.jc.rl.ac.uk (Cloud Gateway S3/7.8.0)', 'gateway-protocol': 's3', 'Last-Modified': 'Sun, 05 May 2024 16:58:01 GMT', 'Content-Type': 'text/plain', 'x-amz-meta-s3cmd-attrs': 'atime:1712929207/ctime:1714928264/gid:26030/gname:users/md5:8080fe2506eaca105b725ca2fdba2c1f/mode:33188/mtime:1714928264/uid:7052994/uname:tfincke', 'Age': '1', 'Etag': '\"8080fe2506eaca105b725ca2fdba2c1f\"', 'Content-Length': '3059')>\n",
      "\n",
      "2025-07-29 12:29:59,097 DEBUG botocore.hooks Event needs-retry.s3.GetObject: calling handler <function _update_status_code at 0x104f61620>\n",
      "2025-07-29 12:29:59,097 DEBUG botocore.hooks Event needs-retry.s3.GetObject: calling handler <aiobotocore.retryhandler.AioRetryHandler object at 0x10e6b60d0>\n",
      "2025-07-29 12:29:59,098 DEBUG botocore.retryhandler No retry needed.\n",
      "2025-07-29 12:29:59,098 DEBUG botocore.hooks Event needs-retry.s3.GetObject: calling handler <bound method AioS3RegionRedirectorv2.redirect_from_error of <aiobotocore.utils.AioS3RegionRedirectorv2 object at 0x10e6b6210>>\n"
     ]
    },
    {
     "data": {
      "text/plain": [
       "b'[\\n    \"ESACCI-BIOMASS-L4-AGB-MERGED-100m-2010-2018-fv2.0.zarr\",\\n    \"ESACCI-BIOMASS-L4-AGB-MERGED-100m-2010-2020-fv4.0.zarr\",\\n    \"ESACCI-GHG-L2-CH4-SCIAMACHY-WFMD-2002-2011-fv1.zarr\",\\n    \"ESACCI-GHG-L2-CO2-OCO-2-FOCAL-2014-2021-v10.zarr\",\\n    \"ESACCI-GHG-L2-CO2-SCIAMACHY-WFMD-2002-2012-fv1.zarr\",\\n    \"ESACCI-ICESHEETS_Antarctica_GMB-2002-2016-v1.1.zarr\",\\n    \"ESACCI-ICESHEETS_Greenland_GMB-2003-2016-v1.1.zarr\",\\n    \"ESACCI-L3C_CLOUD-CLD_PRODUCTS-AVHRR_NOAA-1982-2016-fv3.0.zarr\",\\n    \"ESACCI-L3C_SNOW-SWE-1979-2018-fv1.0.zarr\",\\n    \"ESACCI-L3C_SNOW-SWE-1979-2020-fv2.0.zarr\",\\n    \"ESACCI-L4_GHRSST-SST-GMPE-GLOB_CDR2.0-1981-2016-v02.0-fv01.0.zarr\",\\n    \"ESACCI-LC-L4-LCCS-Map-300m-P1Y-1992-2015-v2.0.7b.zarr\",\\n    \"ESACCI-LST-L3C-LST-MODISA-0.01deg_1DAILY_DAY-2002-2018-fv3.00.zarr\",\\n    \"ESACCI-LST-L3C-LST-MODISA-0.01deg_1DAILY_NIGHT-2002-2018-fv3.00.zarr\",\\n    \"ESACCI-LST-L3S-LST-IRCDR_-0.01deg_1DAILY_DAY-1995-2020-fv3.00.zarr\",\\n    \"ESACCI-LST-L3S-LST-IRCDR_-0.01deg_1DAILY_NIGHT-1995-2020-fv3.00.zarr\",\\n    \"ESACCI-LST-L3S-LST-IRCDR_-0.01deg_1MONTHLY_DAY-1995-2020-fv3.00.zarr\",\\n    \"ESACCI-LST-L3S-LST-IRCDR_-0.01deg_1MONTHLY_NIGHT-1995-2020-fv3.00.zarr\",\\n    \"ESACCI-OC-L3S-IOP-MERGED-1M_MONTHLY_4km_GEO_PML_OCx_QAA-1997-2020-fv5.0.zarr\",\\n    \"ESACCI-OC-L3S-IOP-MERGED-1M_MONTHLY_4km_GEO_PML_OCx_QAA-1997-2022-fv6.0.zarr\",\\n    \"ESACCI-OC-L3S-IOP-MERGED-1D_DAILY_4km_GEO_PML_OCx_QAA-1997-2022-fv6.0.zarr\",\\n    \"ESACCI-OC-L3S-IOP-MERGED-1Y_YEARLY_4km_GEO_PML_OCx_QAA-1997-2022-fv6.0.zarr\",\\n    \"ESACCI-OC-L3S-IOP-MERGED-5D_DAILY_4km_GEO_PML_OCx_QAA-2022-fv6.0.zarr\",\\n    \"ESACCI-OC-L3S-IOP-MERGED-8D_DAILY_4km_GEO_PML_OCx_QAA-1997-2022-fv6.0.zarr\",\\n    \"ESACCI-OC-L3S-OC_PRODUCTS-MERGED-1D_DAILY_4km_GEO_PML_OCx_QAA-1997-2022-fv6.0.zarr\",\\n    \"ESACCI-OC-L3S-OC_PRODUCTS-MERGED-1M_MONTHLY_4km_GEO_PML_OCx_QAA-1997-2022-fv6.0.zarr\",\\n    \"ESACCI-OC-L3S-OC_PRODUCTS-MERGED-1Y_YEARLY_4km_GEO_PML_OCx_QAA-1997-2022-fv6.0.zarr\",\\n    \"ESACCI-OC-L3S-OC_PRODUCTS-MERGED-5D_DAILY_4km_GEO_PML_OCx_QAA-1997-2022-fv6.0.zarr\",\\n    \"ESACCI-OC-L3S-OC_PRODUCTS-MERGED-8D_DAILY_4km_GEO_PML_OCx_QAA-2022-fv6.0.zarr\",\\n    \"ESACCI-OC-L3S-RRS-MERGED-1M_MONTHLY_4km_GEO_PML_RRS-1997-2022-fv6.0.zarr\",\\n    \"ESACCI-OC-L3S-RRS-MERGED-1Y_YEARLY_4km_GEO_PML_RRS-1997-2022-fv6.0.zarr\",\\n    \"ESACCI-OC-L3S-RRS-MERGED-1D_DAILY_4km_GEO_PML_RRS-1997-2022-fv6.0.zarr\",\\n    \"ESACCI-OC-L3S-RRS-MERGED-5D_DAILY_4km_GEO_PML_RRS-1997-2022-fv6.0.zarr\",\\n    \"ESACCI-OC-L3S-RRS-MERGED-8D_DAILY_4km_GEO_PML_RRS-1997-2022-fv6.0.zarr\",\\n    \"ESACCI-PERMAFROST-L4-ALT-MODISLST-AREA4_PP-1997-2018-fv02.0.zarr\",\\n    \"ESACCI-SEAICE-L3C-SITHICK-RA2_ENVISAT-NH25KMEASE2-2002-2012-fv2.0.zarr\",\\n    \"ESACCI-SEAICE-L3C-SITHICK-SIRAL_CRYOSAT2-NH25KMEASE2-2010-2017-fv2.0.zarr\",\\n    \"ESACCI-SEAICE-L4-SICONC-AMSR_50.0kmEASE2-NH-2002-2017-fv2.1.zarr\",\\n    \"ESACCI-SEALEVEL-IND-MSLTR-MERGED-1993-2016-fv02.zarr\",\\n    \"ESACCI-SEALEVEL-L4-MSLA-MERGED-1993-2015-fv02.zarr\",\\n    \"ESACCI-SOILMOISTURE-L3S-SSMV-COMBINED-1978-2020-fv05.3.zarr\",\\n    \"ESACCI-SOILMOISTURE-L3S-SSMV-COMBINED-1978-2021-fv07.1.zarr\"\\n]\\n'"
      ]
     },
     "execution_count": 24,
     "metadata": {},
     "output_type": "execute_result"
    }
   ],
   "source": [
    "data_ids = s3.cat(f\"{bucket}/data_ids.json\")\n",
    "data_ids"
   ]
  },
  {
   "cell_type": "code",
   "execution_count": 25,
   "id": "233bdf1f-80f6-476f-9d75-f7f5d0505697",
   "metadata": {},
   "outputs": [
    {
     "name": "stderr",
     "output_type": "stream",
     "text": [
      "2025-07-29 12:35:25,908 DEBUG s3fs Get directory listing page for esacci/ESACCI-L3C_SNOW-SWE-1979-2020-fv2.0.zarr\n",
      "2025-07-29 12:35:25,911 DEBUG botocore.hooks Event before-parameter-build.s3.ListObjectsV2: calling handler <function set_list_objects_encoding_type_url at 0x104f60220>\n",
      "2025-07-29 12:35:25,913 DEBUG botocore.hooks Event before-parameter-build.s3.ListObjectsV2: calling handler <function validate_bucket_name at 0x104f3ed40>\n",
      "2025-07-29 12:35:25,920 DEBUG botocore.hooks Event before-parameter-build.s3.ListObjectsV2: calling handler <function remove_bucket_from_url_paths_from_model at 0x104f60fe0>\n",
      "2025-07-29 12:35:25,923 DEBUG botocore.hooks Event before-parameter-build.s3.ListObjectsV2: calling handler <bound method S3RegionRedirectorv2.annotate_request_context of <aiobotocore.utils.AioS3RegionRedirectorv2 object at 0x10e6b6210>>\n",
      "2025-07-29 12:35:25,923 DEBUG botocore.hooks Event before-parameter-build.s3.ListObjectsV2: calling handler <bound method ClientCreator._inject_s3_input_parameters of <aiobotocore.client.AioClientCreator object at 0x10dd46ad0>>\n",
      "2025-07-29 12:35:25,924 DEBUG botocore.hooks Event before-parameter-build.s3.ListObjectsV2: calling handler <function generate_idempotent_uuid at 0x104f3eb60>\n",
      "2025-07-29 12:35:25,925 DEBUG botocore.hooks Event before-parameter-build.s3.ListObjectsV2: calling handler <function _handle_request_validation_mode_member at 0x104f616c0>\n",
      "2025-07-29 12:35:25,926 DEBUG botocore.hooks Event before-endpoint-resolution.s3: calling handler <function customize_endpoint_resolver_builtins at 0x104f611c0>\n",
      "2025-07-29 12:35:25,927 DEBUG botocore.hooks Event before-endpoint-resolution.s3: calling handler <bound method S3RegionRedirectorv2.redirect_from_cache of <aiobotocore.utils.AioS3RegionRedirectorv2 object at 0x10e6b6210>>\n",
      "2025-07-29 12:35:25,929 DEBUG aiobotocore.regions Calling endpoint provider with parameters: {'Bucket': 'esacci', 'Region': 'us-east-1', 'UseFIPS': False, 'UseDualStack': False, 'Endpoint': 'https://cci-ke-o.s3-ext.jc.rl.ac.uk/', 'ForcePathStyle': True, 'Accelerate': False, 'UseGlobalEndpoint': True, 'Prefix': 'ESACCI-L3C_SNOW-SWE-1979-2020-fv2.0.zarr/', 'DisableMultiRegionAccessPoints': False, 'UseArnRegion': True}\n",
      "2025-07-29 12:35:25,930 DEBUG aiobotocore.regions Endpoint provider result: https://cci-ke-o.s3-ext.jc.rl.ac.uk/esacci\n",
      "2025-07-29 12:35:25,930 DEBUG botocore.regions Selecting from endpoint provider's list of auth schemes: \"sigv4\". User selected auth scheme is: \"<botocore.UNSIGNED object at 0x1049c5fd0>\"\n",
      "2025-07-29 12:35:25,931 DEBUG botocore.hooks Event before-call.s3.ListObjectsV2: calling handler <function add_expect_header at 0x104f3f100>\n",
      "2025-07-29 12:35:25,932 DEBUG botocore.hooks Event before-call.s3.ListObjectsV2: calling handler <bound method S3ExpressIdentityResolver.apply_signing_cache_key of <aiobotocore.utils.AioS3ExpressIdentityResolver object at 0x10e6b6350>>\n",
      "2025-07-29 12:35:25,932 DEBUG botocore.hooks Event before-call.s3.ListObjectsV2: calling handler <function add_recursion_detection_header at 0x104f3db20>\n",
      "2025-07-29 12:35:25,932 DEBUG botocore.hooks Event before-call.s3.ListObjectsV2: calling handler <function inject_api_version_header_if_needed at 0x104f60680>\n",
      "2025-07-29 12:35:25,933 DEBUG botocore.endpoint Making request for OperationModel(name=ListObjectsV2) with params: {'url_path': '?list-type=2', 'query_string': {'prefix': 'ESACCI-L3C_SNOW-SWE-1979-2020-fv2.0.zarr/', 'delimiter': '/', 'encoding-type': 'url'}, 'method': 'GET', 'headers': {'User-Agent': 'aiobotocore/2.23.2 md/Botocore#1.39.8 ua/2.1 os/macos#24.5.0 md/arch#arm64 lang/python#3.13.5 md/pyimpl#CPython m/b,D,Z,N,C cfg/retry-mode#legacy botocore/1.39.8'}, 'body': b'', 'auth_path': '/esacci/', 'url': 'https://cci-ke-o.s3-ext.jc.rl.ac.uk/esacci?list-type=2&prefix=ESACCI-L3C_SNOW-SWE-1979-2020-fv2.0.zarr%2F&delimiter=%2F&encoding-type=url', 'context': {'client_region': 'us-east-1', 'client_config': <aiobotocore.config.AioConfig object at 0x10e6b4b90>, 'has_streaming_input': False, 'auth_type': 'none', 'unsigned_payload': None, 'auth_options': ['aws.auth#sigv4'], 'encoding_type_auto_set': True, 's3_redirect': {'redirected': False, 'bucket': 'esacci', 'params': {'Bucket': 'esacci', 'Prefix': 'ESACCI-L3C_SNOW-SWE-1979-2020-fv2.0.zarr/', 'Delimiter': '/', 'EncodingType': 'url'}}, 'input_params': {'Bucket': 'esacci', 'Prefix': 'ESACCI-L3C_SNOW-SWE-1979-2020-fv2.0.zarr/'}, 'signing': {}, 'endpoint_properties': {'authSchemes': [{'disableDoubleEncoding': True, 'name': 'sigv4', 'signingName': 's3', 'signingRegion': 'us-east-1'}]}}}\n",
      "2025-07-29 12:35:25,933 DEBUG botocore.hooks Event request-created.s3.ListObjectsV2: calling handler <bound method AioRequestSigner.handler of <aiobotocore.signers.AioRequestSigner object at 0x10e6b4a50>>\n",
      "2025-07-29 12:35:25,934 DEBUG botocore.hooks Event choose-signer.s3.ListObjectsV2: calling handler <function set_operation_specific_signer at 0x104f3e8e0>\n",
      "2025-07-29 12:35:25,934 DEBUG botocore.hooks Event before-sign.s3.ListObjectsV2: calling handler <function remove_arn_from_signing_path at 0x104f61120>\n",
      "2025-07-29 12:35:25,934 DEBUG botocore.hooks Event before-sign.s3.ListObjectsV2: calling handler <function _set_extra_headers_for_unsigned_request at 0x104f61760>\n",
      "2025-07-29 12:35:25,934 DEBUG botocore.hooks Event before-sign.s3.ListObjectsV2: calling handler <bound method S3ExpressIdentityResolver.resolve_s3express_identity of <aiobotocore.utils.AioS3ExpressIdentityResolver object at 0x10e6b6350>>\n",
      "2025-07-29 12:35:25,935 DEBUG botocore.hooks Event request-created.s3.ListObjectsV2: calling handler <bound method UserAgentString.rebuild_and_replace_user_agent_handler of <botocore.useragent.UserAgentString object at 0x10e865b50>>\n",
      "2025-07-29 12:35:25,935 DEBUG botocore.hooks Event request-created.s3.ListObjectsV2: calling handler <function add_retry_headers at 0x104f60f40>\n",
      "2025-07-29 12:35:25,935 DEBUG botocore.endpoint Sending http request: <AWSPreparedRequest stream_output=False, method=GET, url=https://cci-ke-o.s3-ext.jc.rl.ac.uk/esacci?list-type=2&prefix=ESACCI-L3C_SNOW-SWE-1979-2020-fv2.0.zarr%2F&delimiter=%2F&encoding-type=url, headers={'User-Agent': b'aiobotocore/2.23.2 md/Botocore#1.39.8 ua/2.1 os/macos#24.5.0 md/arch#arm64 lang/python#3.13.5 md/pyimpl#CPython m/b,D,Z,N,C cfg/retry-mode#legacy botocore/1.39.8', 'amz-sdk-invocation-id': b'c8d690df-4c18-4b5b-ae91-bed91955e8e2', 'amz-sdk-request': b'attempt=1'}>\n",
      "2025-07-29 12:35:26,230 DEBUG botocore.hooks Event before-parse.s3.ListObjectsV2: calling handler <function _handle_200_error at 0x104f614e0>\n",
      "2025-07-29 12:35:26,232 DEBUG botocore.hooks Event before-parse.s3.ListObjectsV2: calling handler <function handle_expires_header at 0x104f61300>\n",
      "2025-07-29 12:35:26,234 DEBUG botocore.parsers Response headers: {'date': 'Tue, 29 Jul 2025 10:35:26 GMT', 'x-amz-request-id': 'DE480EFA438E8C06', 'server': 'CAStor Cluster/14.1.2', 'via': '1.1 cci-ke-o.s3-ext.jc.rl.ac.uk (Cloud Gateway S3/7.8.0)', 'gateway-protocol': 's3', 'content-type': 'application/xml; charset=UTF-8', 'connection': 'close'}\n",
      "2025-07-29 12:35:26,234 DEBUG botocore.parsers Response body:\n",
      "b'<?xml version=\"1.0\" encoding=\"UTF-8\"?><ListBucketResult xmlns=\"http://s3.amazonaws.com/doc/2006-03-01/\"><Name>esacci</Name><Prefix>ESACCI-L3C_SNOW-SWE-1979-2020-fv2.0.zarr/</Prefix><MaxKeys>1000</MaxKeys><Delimiter>/</Delimiter><KeyCount>10</KeyCount><ContinuationToken/><IsTruncated>false</IsTruncated><Contents><Key>ESACCI-L3C_SNOW-SWE-1979-2020-fv2.0.zarr/.zattrs</Key><LastModified>2023-08-10T08:21:56.244Z</LastModified><ETag>\"632ef10a0778ad337aebcc6dcf47072f\"</ETag><Size>3289</Size><StorageClass>STANDARD</StorageClass></Contents><Contents><Key>ESACCI-L3C_SNOW-SWE-1979-2020-fv2.0.zarr/.zgroup</Key><LastModified>2023-08-10T08:00:50.352Z</LastModified><ETag>\"e20297935e73dd0154104d4ea53040ab\"</ETag><Size>24</Size><StorageClass>STANDARD</StorageClass></Contents><Contents><Key>ESACCI-L3C_SNOW-SWE-1979-2020-fv2.0.zarr/.zmetadata</Key><LastModified>2023-08-10T08:21:45.096Z</LastModified><ETag>\"c7117afce2a5d410cff8c1db3c6b3104\"</ETag><Size>10268</Size><StorageClass>STANDARD</StorageClass></Contents><CommonPrefixes><Prefix>ESACCI-L3C_SNOW-SWE-1979-2020-fv2.0.zarr/lat/</Prefix></CommonPrefixes><CommonPrefixes><Prefix>ESACCI-L3C_SNOW-SWE-1979-2020-fv2.0.zarr/lat_bnds/</Prefix></CommonPrefixes><CommonPrefixes><Prefix>ESACCI-L3C_SNOW-SWE-1979-2020-fv2.0.zarr/lon/</Prefix></CommonPrefixes><CommonPrefixes><Prefix>ESACCI-L3C_SNOW-SWE-1979-2020-fv2.0.zarr/lon_bnds/</Prefix></CommonPrefixes><CommonPrefixes><Prefix>ESACCI-L3C_SNOW-SWE-1979-2020-fv2.0.zarr/swe/</Prefix></CommonPrefixes><CommonPrefixes><Prefix>ESACCI-L3C_SNOW-SWE-1979-2020-fv2.0.zarr/swe_std/</Prefix></CommonPrefixes><CommonPrefixes><Prefix>ESACCI-L3C_SNOW-SWE-1979-2020-fv2.0.zarr/time/</Prefix></CommonPrefixes></ListBucketResult>'\n",
      "2025-07-29 12:35:26,236 DEBUG botocore.hooks Event needs-retry.s3.ListObjectsV2: calling handler <function _update_status_code at 0x104f61620>\n",
      "2025-07-29 12:35:26,237 DEBUG botocore.hooks Event needs-retry.s3.ListObjectsV2: calling handler <aiobotocore.retryhandler.AioRetryHandler object at 0x10e6b60d0>\n",
      "2025-07-29 12:35:26,237 DEBUG botocore.retryhandler No retry needed.\n",
      "2025-07-29 12:35:26,238 DEBUG botocore.hooks Event needs-retry.s3.ListObjectsV2: calling handler <bound method AioS3RegionRedirectorv2.redirect_from_error of <aiobotocore.utils.AioS3RegionRedirectorv2 object at 0x10e6b6210>>\n",
      "2025-07-29 12:35:26,238 DEBUG botocore.hooks Event after-call.s3.ListObjectsV2: calling handler <function decode_list_object_v2 at 0x104f60360>\n"
     ]
    },
    {
     "data": {
      "text/plain": [
       "['esacci/ESACCI-L3C_SNOW-SWE-1979-2020-fv2.0.zarr/.zattrs',\n",
       " 'esacci/ESACCI-L3C_SNOW-SWE-1979-2020-fv2.0.zarr/.zgroup',\n",
       " 'esacci/ESACCI-L3C_SNOW-SWE-1979-2020-fv2.0.zarr/.zmetadata',\n",
       " 'esacci/ESACCI-L3C_SNOW-SWE-1979-2020-fv2.0.zarr/lat',\n",
       " 'esacci/ESACCI-L3C_SNOW-SWE-1979-2020-fv2.0.zarr/lat_bnds',\n",
       " 'esacci/ESACCI-L3C_SNOW-SWE-1979-2020-fv2.0.zarr/lon',\n",
       " 'esacci/ESACCI-L3C_SNOW-SWE-1979-2020-fv2.0.zarr/lon_bnds',\n",
       " 'esacci/ESACCI-L3C_SNOW-SWE-1979-2020-fv2.0.zarr/swe',\n",
       " 'esacci/ESACCI-L3C_SNOW-SWE-1979-2020-fv2.0.zarr/swe_std',\n",
       " 'esacci/ESACCI-L3C_SNOW-SWE-1979-2020-fv2.0.zarr/time']"
      ]
     },
     "execution_count": 25,
     "metadata": {},
     "output_type": "execute_result"
    }
   ],
   "source": [
    "s3.ls(f\"{bucket}/ESACCI-L3C_SNOW-SWE-1979-2020-fv2.0.zarr\")"
   ]
  }
 ],
 "metadata": {
  "kernelspec": {
   "display_name": "Python 3 (ipykernel)",
   "language": "python",
   "name": "python3"
  },
  "language_info": {
   "codemirror_mode": {
    "name": "ipython",
    "version": 3
   },
   "file_extension": ".py",
   "mimetype": "text/x-python",
   "name": "python",
   "nbconvert_exporter": "python",
   "pygments_lexer": "ipython3",
   "version": "3.13.5"
  }
 },
 "nbformat": 4,
 "nbformat_minor": 5
}
