{
 "cells": [
  {
   "cell_type": "code",
   "execution_count": 1,
   "id": "7cf17a85-bb76-457e-8c6c-e9faaf02a4f9",
   "metadata": {},
   "outputs": [],
   "source": [
    "import s3fs"
   ]
  },
  {
   "cell_type": "code",
   "execution_count": 2,
   "id": "cbcc7fd5-b4fd-4aa0-a2e1-674d3369ef43",
   "metadata": {},
   "outputs": [],
   "source": [
    "endpoint_url = \"https://cci-ke-o.s3-ext.jc.rl.ac.uk/\"\n",
    "bucket = \"esacci\""
   ]
  },
  {
   "cell_type": "code",
   "execution_count": null,
   "id": "5df1d905-f424-4cc8-a0a3-512274d2e079",
   "metadata": {},
   "outputs": [],
   "source": []
  }
 ],
 "metadata": {
  "kernelspec": {
   "display_name": "Python 3 (ipykernel)",
   "language": "python",
   "name": "python3"
  },
  "language_info": {
   "codemirror_mode": {
    "name": "ipython",
    "version": 3
   },
   "file_extension": ".py",
   "mimetype": "text/x-python",
   "name": "python",
   "nbconvert_exporter": "python",
   "pygments_lexer": "ipython3",
   "version": "3.13.5"
  }
 },
 "nbformat": 4,
 "nbformat_minor": 5
}
